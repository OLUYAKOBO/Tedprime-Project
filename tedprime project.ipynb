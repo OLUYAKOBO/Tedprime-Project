{
 "cells": [
  {
   "cell_type": "code",
   "execution_count": 7,
   "id": "c60c87b2",
   "metadata": {},
   "outputs": [],
   "source": [
    "import random \n",
    "import string\n",
    "import tkinter\n",
    "\n",
    "import tkinter.messagebox as msg"
   ]
  },
  {
   "cell_type": "code",
   "execution_count": 8,
   "id": "a4a23558",
   "metadata": {},
   "outputs": [],
   "source": [
    "characters = list(string.ascii_letters + string.digits + \"!@#$%^&*()\")"
   ]
  },
  {
   "cell_type": "code",
   "execution_count": 9,
   "id": "28d1ae35",
   "metadata": {},
   "outputs": [],
   "source": [
    "top = tkinter.Tk()\n",
    "top.title(\"Project\")\n",
    "top.configure(bg= 'powderblue')"
   ]
  },
  {
   "cell_type": "code",
   "execution_count": 10,
   "id": "69681fc5",
   "metadata": {},
   "outputs": [],
   "source": [
    "def show():\n",
    "    \n",
    "    length_of_password = len(e3.get())\n",
    "    encoded_password = []\n",
    "    \n",
    "    for i in range(length_of_password):\n",
    "        encoded_password.append(random.choice(characters))\n",
    "        \n",
    "    #random.shuffle(password)#shuffling the password\n",
    "    #print(\"\".join(encoded_password))#converting the list to string\n",
    "    msg.showinfo(\"Encoded Password\",\"\".join(encoded_password))\n",
    "show\n",
    "\n",
    "def unshow():\n",
    "    msg.showinfo(\"Decoded password\",e3.get())\n",
    "unshow\n",
    "\n",
    "lt = tkinter.Label(top,text = \"PASSWORD DECODER AND ENCODER\",font='Times 30 bold',fg='blue')\n",
    "lt.pack(padx=20,pady=22)\n",
    "\n",
    "l1 = tkinter.Label(top,text = \"Enter your surname\",font='Times 20 bold')\n",
    "l1.pack(padx = 5,pady = 5)\n",
    "\n",
    "e1 = tkinter.Entry(top,bd =5)\n",
    "e1.pack()\n",
    "\n",
    "\n",
    "\n",
    "\n",
    "l2 = tkinter.Label(top,text = 'Enter your name',font='Times 20 bold')\n",
    "l2.pack(padx = 5,pady = 5)\n",
    "e2 = tkinter.Entry(top,bd =5)\n",
    "e2.pack()\n",
    "\n",
    "l3 = tkinter.Label(top,text = 'Enter your password',font='Times 20 bold')\n",
    "l3.pack(padx = 5,pady = 5)\n",
    "\n",
    "e3 = tkinter.Entry(top,bd =5,show = '#')\n",
    "e3.pack()\n",
    "\n",
    "\n"
   ]
  },
  {
   "cell_type": "code",
   "execution_count": null,
   "id": "bdb97c7f",
   "metadata": {},
   "outputs": [],
   "source": [
    "\n"
   ]
  },
  {
   "cell_type": "code",
   "execution_count": 11,
   "id": "255dc2ad",
   "metadata": {},
   "outputs": [],
   "source": [
    "encoder = tkinter.Button(top,text = \"Encode password\",command = show,bg=\"red\")\n",
    "encoder.pack()\n",
    "\n",
    "decoder = tkinter.Button(top,text = 'Decode password',command = unshow , bg = 'blue')\n",
    "decoder.pack()"
   ]
  },
  {
   "cell_type": "code",
   "execution_count": 12,
   "id": "f482d0c9",
   "metadata": {},
   "outputs": [],
   "source": [
    "top.mainloop()"
   ]
  },
  {
   "cell_type": "code",
   "execution_count": null,
   "id": "4f1587e0",
   "metadata": {},
   "outputs": [],
   "source": []
  }
 ],
 "metadata": {
  "kernelspec": {
   "display_name": "Python 3 (ipykernel)",
   "language": "python",
   "name": "python3"
  },
  "language_info": {
   "codemirror_mode": {
    "name": "ipython",
    "version": 3
   },
   "file_extension": ".py",
   "mimetype": "text/x-python",
   "name": "python",
   "nbconvert_exporter": "python",
   "pygments_lexer": "ipython3",
   "version": "3.9.7"
  }
 },
 "nbformat": 4,
 "nbformat_minor": 5
}
